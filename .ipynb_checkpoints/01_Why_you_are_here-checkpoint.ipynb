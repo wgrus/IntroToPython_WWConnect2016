{
 "cells": [
  {
   "cell_type": "markdown",
   "metadata": {},
   "source": [
    "Why you are here:\n",
    "=================\n",
    "\n",
    "![title](img/whytoteachpython.png)"
   ]
  },
  {
   "cell_type": "markdown",
   "metadata": {},
   "source": [
    "There are plenty of articles, like [the one above](http://radar.oreilly.com/2015/04/five-reasons-why-python-is-a-popular-teaching-language.html) that discuss Python's utility as a learning language.\n",
    "\n",
    "This article gives you five reasons:\n",
    "\n",
    "1. Code Readability\n",
    "\n",
    "2. Simple Syntax\n",
    "\n",
    "3. Open Extensibility\n",
    "\n",
    "4. Cross-Platform Runability\n",
    "\n",
    "5. Community"
   ]
  },
  {
   "cell_type": "markdown",
   "metadata": {},
   "source": [
    "\n",
    "Code Readability\n",
    "================\n",
    "\n",
    "Python code is separated into code blocks. Python uses the whitespace that defines these code blocks as an indicator of what code should be executed together. Python does not use {} or ; to define codeblocks. Python also has a formatting and naming convention called [PEP 8](https://www.python.org/dev/peps/pep-0008/) to keep code standard.\n",
    "\n",
    "We will spend time on codeblocks.\n",
    "\n",
    "Simple Syntax\n",
    "=============\n",
    "\n",
    "It is easy to start writing Python scripts thanks to its relatively simple basic syntax. Assignment statements do not require predefining variables, and many builtin functions and methods have logical English keywords.\n",
    "\n",
    "We won't spend too much time on syntax, but there are plenty of tutorials or classes or books with syntax covered in the resource section.\n",
    "\n",
    "Open Extensibility\n",
    "==================\n",
    "\n",
    "Python comes with a standard library of modules and packages of functions that you will want to use. They have great documentation for these standard packages. In addition, the large python community has developed an [extensive suite of packages](https://pypi.python.org/pypi) that you can download and use in your code.\n",
    "\n",
    "We will spend a lot of time on installing and importing these packages.\n",
    "\n",
    "Cross-Platform Runability\n",
    "=========================\n",
    "\n",
    "Python works on all platforms: Windows, Mac, Linux! The same python code! (usually)\n",
    "\n",
    "We won't talk very much about this, although I can give tips to Windows users because it is just a little more difficult for them.\n",
    "\n",
    "Community\n",
    "=========\n",
    "\n",
    "Python has an active open-source community that contribute to and develop popular packages. They comprise the numerous Python User Groups.\n",
    "\n",
    "[Shameless plug for Seattle PyLadies](http://www.meetup.com/Seattle-PyLadies/)\n",
    "\n",
    "Error Investigation\n",
    "===================\n",
    "\n",
    "Python also tends to have decent error messages (called Exceptions).\n",
    "\n",
    "We will spend time on error investigation."
   ]
  },
  {
   "cell_type": "markdown",
   "metadata": {
    "collapsed": true
   },
   "source": [
    "Why I am here:\n",
    "==============\n",
    "\n",
    "1. Organizer for Seattle PyLadies\n",
    "\n",
    "2. Python instructor for Girl Develop It Seattle\n",
    "\n",
    "3. Volunteer at Rain City Rock Camp for Girls\n",
    "\n",
    "4. Biologist turned Transportation Data Analyst"
   ]
  }
 ],
 "metadata": {
  "kernelspec": {
   "display_name": "py35",
   "language": "python",
   "name": "py35"
  },
  "language_info": {
   "codemirror_mode": {
    "name": "ipython",
    "version": 3
   },
   "file_extension": ".py",
   "mimetype": "text/x-python",
   "name": "python",
   "nbconvert_exporter": "python",
   "pygments_lexer": "ipython3",
   "version": "3.5.1"
  }
 },
 "nbformat": 4,
 "nbformat_minor": 0
}
