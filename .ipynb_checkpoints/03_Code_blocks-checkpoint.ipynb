{
 "cells": [
  {
   "cell_type": "markdown",
   "metadata": {},
   "source": [
    "Code Blocks\n",
    "===========\n",
    "\n",
    "Python requires that code that will be run together be indented together into code blocks. A code block begins with the first line of indented code and ends when the code returns to the previous indentation level.\n",
    "\n",
    "In Python, convention is to indent 4 spaces for a codeblock. IPython/Jupyter Notebooks force you to do that, but not all environments do. \n",
    "\n",
    "Python does not see tabs and 4 spaces as the same. Even if they look the same to you, if you use a mix of tabs and spaces, you will get an error.\n",
    "\n",
    "Good text editors or IDEs will allow you to set tab = 4 spaces in the settings.\n",
    "\n",
    "Code blocks are used in conditional statements, while loops, for loops, and function definitions.\n",
    "\n",
    "**Conditional statements:**"
   ]
  },
  {
   "cell_type": "code",
   "execution_count": null,
   "metadata": {
    "collapsed": false
   },
   "outputs": [],
   "source": [
    "x = 3\n",
    "if x == 5:\n",
    "    print('x is equal to 5')\n",
    "    x_is_5 = True\n",
    "    print('Still in the x == 5 block')\n",
    "else:\n",
    "    print('x is not equal to 5')\n",
    "    x_is_5 = False\n",
    "    print('Still in the else block of x == 5')\n",
    "print('Outside of the if or else blocks.')\n",
    "print('x_is_5:')\n",
    "print(x_is_5)\n"
   ]
  },
  {
   "cell_type": "markdown",
   "metadata": {},
   "source": [
    "The entire code block will execute even if the conditional becomes false. In the above code block, add the line 'x = 5' to the **else** code block before the first print statement and re-run the cell. Did the output change?\n",
    "\n",
    "You can also have nested code blocks."
   ]
  },
  {
   "cell_type": "code",
   "execution_count": null,
   "metadata": {
    "collapsed": false
   },
   "outputs": [],
   "source": [
    "name = 'Wendy'\n",
    "if name.startswith('W'):\n",
    "    if name.endswith('y'):\n",
    "        print('Is your name Wendy?')\n",
    "    else:\n",
    "        print('Is your name William?')\n",
    "else:\n",
    "    print('I must have forgotten your name.')"
   ]
  },
  {
   "cell_type": "markdown",
   "metadata": {},
   "source": [
    "**While loops:**"
   ]
  },
  {
   "cell_type": "code",
   "execution_count": null,
   "metadata": {
    "collapsed": false
   },
   "outputs": [],
   "source": [
    "x = 5\n",
    "while x > 0:\n",
    "    if x > 1:\n",
    "        print(x, 'little monkeys jumping on the bed.')\n",
    "    else:\n",
    "        print(x, 'little monkey jumping on the bed.')\n",
    "    x = x - 1"
   ]
  },
  {
   "cell_type": "markdown",
   "metadata": {},
   "source": [
    "What happens when we change it to the following?"
   ]
  },
  {
   "cell_type": "code",
   "execution_count": null,
   "metadata": {
    "collapsed": false
   },
   "outputs": [],
   "source": [
    "x = 5\n",
    "while x > 0:\n",
    "    x = 0\n",
    "    if x > 1:\n",
    "        print(x, 'little monkeys jumping on the bed.')\n",
    "    else:\n",
    "        print(x, 'little monkey jumping on the bed.')\n",
    "    x = x - 1"
   ]
  },
  {
   "cell_type": "markdown",
   "metadata": {},
   "source": [
    "**For loops:**"
   ]
  },
  {
   "cell_type": "code",
   "execution_count": null,
   "metadata": {
    "collapsed": false
   },
   "outputs": [],
   "source": [
    "dance_movies = {'Girls Just Want to Have Fun' : 'Sarah Jessica Parker', 'Dirty Dancing' : 'Jennifer Grey', \n",
    "                     'Footloose' : 'Lori Singer'}\n",
    "for movie in dance_movies:\n",
    "    print('What has', dance_movies[movie], 'been in since', movie, '?')"
   ]
  },
  {
   "cell_type": "code",
   "execution_count": null,
   "metadata": {
    "collapsed": false
   },
   "outputs": [],
   "source": [
    "favorite_movies = ['Girls Just Want to Have Fun', 'Pitch Perfect', 'Centerstage', 'Kindergarten Cop']\n",
    "for movie in dance_movies:\n",
    "    if movie in favorite_movies:\n",
    "        print('Oh,', movie,'is one of my favorite movies!')"
   ]
  },
  {
   "cell_type": "markdown",
   "metadata": {},
   "source": [
    "Let's change the for loop above so to also use the star information from the dance_movies dictionary.\n",
    "\n",
    "**Functions:**"
   ]
  },
  {
   "cell_type": "code",
   "execution_count": null,
   "metadata": {
    "collapsed": true
   },
   "outputs": [],
   "source": [
    "def print_colors_in_all_caps(sentence):\n",
    "    '''Takes in a sentence and prints the sentence with any colors written in all_caps'''\n",
    "    colors = ['red', 'orange', 'yellow', 'green', 'blue', 'white', 'black', 'brown', 'purple','pink']\n",
    "    words = sentence.split()\n",
    "    for word in words:\n",
    "        if word in colors:\n",
    "            print(sentence.replace(word, word.upper()))"
   ]
  },
  {
   "cell_type": "code",
   "execution_count": null,
   "metadata": {
    "collapsed": false,
    "scrolled": true
   },
   "outputs": [],
   "source": [
    "print_colors_in_all_caps('I want a red shirt')"
   ]
  },
  {
   "cell_type": "markdown",
   "metadata": {},
   "source": [
    "What happens if our sentence does not contain a color in it?"
   ]
  }
 ],
 "metadata": {
  "kernelspec": {
   "display_name": "py35",
   "language": "python",
   "name": "py35"
  },
  "language_info": {
   "codemirror_mode": {
    "name": "ipython",
    "version": 3
   },
   "file_extension": ".py",
   "mimetype": "text/x-python",
   "name": "python",
   "nbconvert_exporter": "python",
   "pygments_lexer": "ipython3",
   "version": "3.5.1"
  }
 },
 "nbformat": 4,
 "nbformat_minor": 0
}
