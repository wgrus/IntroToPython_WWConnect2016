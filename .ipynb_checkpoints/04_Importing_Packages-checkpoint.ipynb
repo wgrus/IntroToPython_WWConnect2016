{
 "cells": [
  {
   "cell_type": "markdown",
   "metadata": {},
   "source": [
    "Importing Packages\n",
    "==================\n",
    "\n",
    "Python has many [builtin modules](https://docs.python.org/3/library/) or [open-source packages](https://pypi.python.org/pypi). These make it a great language to work with because you don't have to reinvent the wheel. Someone has probably already invented the wheel for you. You just have to figure out how to get that wheel on your car and use it.\n",
    "\n",
    "**what is a module?**\n",
    "\n",
    "A Python module or package is a file or set of files that contain Python function or class definitions.\n",
    "\n",
    "A module or package can be imported into your environment if it is in a directory that is in your PATH and it has an init file -OR- if it is in your current directory.\n",
    "\n",
    "Let's start simple. I have a file called wendys_functions.py that contains three simple functions. Let's learn how to use import with this file as our module.\n",
    "\n",
    "First, we can import the entire module. When we do that, to call functions from the module, we use the format module.function()"
   ]
  },
  {
   "cell_type": "code",
   "execution_count": null,
   "metadata": {
    "collapsed": false
   },
   "outputs": [],
   "source": [
    "import wendys_functions\n",
    "for letter in 'Istanbul':\n",
    "    print(letter, wendys_functions.is_vowel(letter))"
   ]
  },
  {
   "cell_type": "markdown",
   "metadata": {},
   "source": [
    "wendys_functions is a rather large and unruly name that I am likely to misspell if I have to type it too many times. We can import modules as abbreviations. When we do that, we use the format abbreviation.function()"
   ]
  },
  {
   "cell_type": "code",
   "execution_count": null,
   "metadata": {
    "collapsed": false
   },
   "outputs": [],
   "source": [
    "import wendys_functions as wf\n",
    "for letter in 'Seattle':\n",
    "    print(letter, wf.is_vowel(letter))"
   ]
  },
  {
   "cell_type": "markdown",
   "metadata": {},
   "source": [
    "Sometimes a module or package is very large and we only need one or two functions from it. To just import the functions you need, use the **from** keyword. When you import functions with the from keyword, you no longer use the module name when you call the function. You would just use function()."
   ]
  },
  {
   "cell_type": "code",
   "execution_count": null,
   "metadata": {
    "collapsed": false
   },
   "outputs": [],
   "source": [
    "from wendys_functions import contains_orange\n",
    "sentences = ['I ate an orange for lunch.', 'I ate a grapefruit for breakfast']\n",
    "for sentence in sentences:\n",
    "    print(contains_orange(sentence))"
   ]
  },
  {
   "cell_type": "markdown",
   "metadata": {},
   "source": [
    "If you want to import more than one function from a module, just use a comma between them."
   ]
  },
  {
   "cell_type": "code",
   "execution_count": null,
   "metadata": {
    "collapsed": false
   },
   "outputs": [],
   "source": [
    "from wendys_functions import contains_orange, print_5times\n",
    "sentence = 'I bought an orange dress to wear to the party.'\n",
    "if contains_orange(sentence):\n",
    "    print_5times(sentence[0])"
   ]
  },
  {
   "cell_type": "markdown",
   "metadata": {},
   "source": [
    "For builtin modules, you import the the same three ways."
   ]
  },
  {
   "cell_type": "code",
   "execution_count": null,
   "metadata": {
    "collapsed": true
   },
   "outputs": [],
   "source": [
    "import math"
   ]
  },
  {
   "cell_type": "code",
   "execution_count": null,
   "metadata": {
    "collapsed": false
   },
   "outputs": [],
   "source": [
    "math.sqrt(4)"
   ]
  },
  {
   "cell_type": "code",
   "execution_count": null,
   "metadata": {
    "collapsed": false
   },
   "outputs": [],
   "source": [
    "print(6*math.pi)"
   ]
  },
  {
   "cell_type": "code",
   "execution_count": null,
   "metadata": {
    "collapsed": false
   },
   "outputs": [],
   "source": [
    "help(math.factorial)"
   ]
  },
  {
   "cell_type": "markdown",
   "metadata": {},
   "source": [
    "For any other module you might want to use that is not local or not part of the Python standard library, you first have to install it before you can use it.\n",
    "\n",
    "There are three main ways to do this:\n",
    "**pip** - pip is the python installer that can be run at the commandline. If you find a package on PyPi that you want to install, read the installation instructions and it will tell you what it's name is in PyPi. Then you go to the commandline and type:\n",
    "\n",
    ">  pip install package_name\n",
    "\n",
    "You can also use pip to update or uninstall packages. Pip ensures that the packages is installed where your python environment can see it.\n",
    "\n",
    "**conda** - [conda](http://conda.pydata.org/docs/using/pkgs.html) works like pip for packages that are part of the Anaconda Python distribution for scientific computing in Python. If you already have miniconda from your Python installation, you go to the commandline and type:\n",
    "\n",
    "> conda install package_name\n",
    "\n",
    "**Python distributions** - Python distributions are versions of Python that come with extra modules. For example, the full Anaconda distribution contains [packages](https://docs.continuum.io/anaconda/pkg-docs) related to scientific computing. \n",
    "\n",
    "**Package Management** - For some development reasons, you might want to have multiple versions of the same package installed on your machine. Also, you might want to install a package for a specific project but not for all projects. To manage what packages and what package versions are available in your coding environment, you can use **virtual environments**. For more information read about [virtualenv](https://pypi.python.org/pypi/virtualenv).\n",
    "\n",
    "**Windows and pip** - For binary packages, Windows does not always play nicely with pip. Sometimes you need to get a .whl (wheel) file and install that with pip. If you download a package_name.whl, save it where you can get to it from the command line. Maneuver there from the command line and type:\n",
    "\n",
    "> pip install package_name.whl\n",
    "\n",
    "Christoph Gohlke provides [a wealth of wheel files](http://www.lfd.uci.edu/~gohlke/pythonlibs/) for different windows versions/Python versions for common packages. Also more and more packages are installable on Windows straight from pip.\n",
    "\n",
    "Let's try to install [scikit-image](http://scikit-image.org/)."
   ]
  },
  {
   "cell_type": "code",
   "execution_count": null,
   "metadata": {
    "collapsed": true
   },
   "outputs": [],
   "source": [
    "from skimage import data, io, filters"
   ]
  },
  {
   "cell_type": "code",
   "execution_count": null,
   "metadata": {
    "collapsed": false
   },
   "outputs": [],
   "source": [
    "image = data.coins()\n",
    "edges = filters.sobel(image)\n",
    "io.imshow(edges)\n",
    "io.show()"
   ]
  },
  {
   "cell_type": "code",
   "execution_count": null,
   "metadata": {
    "collapsed": true
   },
   "outputs": [],
   "source": []
  }
 ],
 "metadata": {
  "kernelspec": {
   "display_name": "py35",
   "language": "python",
   "name": "py35"
  },
  "language_info": {
   "codemirror_mode": {
    "name": "ipython",
    "version": 3
   },
   "file_extension": ".py",
   "mimetype": "text/x-python",
   "name": "python",
   "nbconvert_exporter": "python",
   "pygments_lexer": "ipython3",
   "version": "3.5.1"
  }
 },
 "nbformat": 4,
 "nbformat_minor": 0
}
