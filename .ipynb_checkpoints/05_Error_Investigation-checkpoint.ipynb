{
 "cells": [
  {
   "cell_type": "markdown",
   "metadata": {},
   "source": [
    "Error Investigation\n",
    "===================\n",
    "\n",
    "Once you have your environment set up, and you've figure out how to install packages, you will start coding. You will get errors. (You might have already gotten them.)\n",
    "\n",
    "**DO NOT WORRY!**\n",
    "\n",
    "Errors are a natural part of the process. And, Python gives relatively good error messages so you know (or can figure out what you did wrong.\n",
    "\n",
    "**DO NOT WORRY!**\n",
    "\n",
    "![title](img/try_fail.jpg)\n",
    "\n",
    "As long as you are learning something from the mistake that might make you write better code in the future, you really shouldn't regard an error as a failure.\n",
    "\n",
    "In Python, errors are called Exceptions. Python's Standard Library comes with [builtin exceptions](https://docs.python.org/3/library/exceptions.html) and some packages come with their own exceptions.\n",
    "\n",
    "Errors that will stop your code from running are called **runtime errors**. Errors that allow code to run, just not as expected are called **semantic errors**.\n",
    "\n",
    "Let's make some errors!"
   ]
  },
  {
   "cell_type": "code",
   "execution_count": null,
   "metadata": {
    "collapsed": false
   },
   "outputs": [],
   "source": [
    "str1 = 'gorilla'\n",
    "str2 = 'illa'\n",
    "str3 = str1 - str2"
   ]
  },
  {
   "cell_type": "markdown",
   "metadata": {},
   "source": [
    "Oh no! We got an error. Ok, let's calmly read the error message. Oh, it is just telling us that we can't subtract strings. No big deal. We'll just have to use methods, functions, and operators for strings to do what we were trying to do.\n",
    "\n",
    "Maybe we can try:"
   ]
  },
  {
   "cell_type": "code",
   "execution_count": null,
   "metadata": {
    "collapsed": false
   },
   "outputs": [],
   "source": [
    "if str2 in str1:\n",
    "    str3 = str1.replace(str2, '')\n",
    "print(str3)"
   ]
  },
  {
   "cell_type": "code",
   "execution_count": null,
   "metadata": {
    "collapsed": false
   },
   "outputs": [],
   "source": [
    "sentence = 'What should we eat for dinner?'\n",
    "words = sentence.split()\n",
    "print('The 10th word in the sentence is', words[9])"
   ]
  },
  {
   "cell_type": "markdown",
   "metadata": {},
   "source": [
    "If we want to determine why we are seeing the error, we can use try/except statements. A try/except statement needs both a **try** and an **except** part.\n",
    "\n",
    "The try contains the codeblock you want to execute. The except contains the codeblock to execute if you get an exception. You can specify one or multiple exceptions that will execute the except codeblock.\n",
    "\n",
    "Let's try it with the above code. The first two statements we can execute no matter what. It is the third statement that can give us the error."
   ]
  },
  {
   "cell_type": "code",
   "execution_count": null,
   "metadata": {
    "collapsed": false
   },
   "outputs": [],
   "source": [
    "sentence = \"What should we eat for dinner?\"\n",
    "words = sentence.split()\n",
    "try:\n",
    "    print('The 10th word in the sentence is', words[9])\n",
    "except IndexError:\n",
    "    print('Your sentence has fewer than 10 words in it.')"
   ]
  },
  {
   "cell_type": "markdown",
   "metadata": {},
   "source": [
    "You can use try/except statements for testing, for logging, or to build a robust data parser.\n",
    "\n",
    "**What if I don't understand the error message or I don't know how to fix it?**\n",
    "\n",
    "Get good at Google. Start to embrace StackOverflow.\n",
    "\n",
    "![TITLE](img/goodatgoogle.jpg)\n",
    "\n",
    "\n",
    "Sometimes the code does not produce errors but it does not function as intended. These can be harder to diagnose.\n",
    "\n",
    "Let's try to fix some error-producing code!"
   ]
  },
  {
   "cell_type": "code",
   "execution_count": null,
   "metadata": {
    "collapsed": false
   },
   "outputs": [],
   "source": [
    "#We want to set the variable sentence to the word cornflakes\n",
    "\n",
    "sentence = 'cornflakes\""
   ]
  },
  {
   "cell_type": "code",
   "execution_count": null,
   "metadata": {
    "collapsed": false
   },
   "outputs": [],
   "source": [
    "#We want to count the number of t's in each element of a list.\n",
    "\n",
    "def count_of_ts(word):\n",
    "    return word.count('t')\n",
    "\n",
    "listA = ['parrot', 'turtle', 'kitten']\n",
    "print(count_of_ts(listA))"
   ]
  },
  {
   "cell_type": "code",
   "execution_count": null,
   "metadata": {
    "collapsed": false
   },
   "outputs": [],
   "source": [
    "#For each number in a list, we want to try to divide 5 by that number. We are aware that you can't divide by 0.\n",
    "\n",
    "number_list = [4,5,6,0,9]\n",
    "for number in number_list:\n",
    "    try:\n",
    "        5.0/number"
   ]
  },
  {
   "cell_type": "code",
   "execution_count": null,
   "metadata": {
    "collapsed": false
   },
   "outputs": [],
   "source": [
    "# For a list of numbers, we want to print out the even ones.\n",
    "\n",
    "number_list = [4,5,6,0,9]\n",
    "\n",
    "for number in number_list\n",
    "    if number % 2 == 0\n",
    "        print(number)"
   ]
  },
  {
   "cell_type": "code",
   "execution_count": null,
   "metadata": {
    "collapsed": false
   },
   "outputs": [],
   "source": [
    "# Print the contents of listB\n",
    "\n",
    "print(listB)"
   ]
  },
  {
   "cell_type": "code",
   "execution_count": null,
   "metadata": {
    "collapsed": false
   },
   "outputs": [],
   "source": [
    "#Print that the shoes are cute if they are purple.\n",
    "\n",
    "shoe = 'purple'\n",
    "if shoe = 'purple':\n",
    "    print('Cute shoes!')"
   ]
  },
  {
   "cell_type": "code",
   "execution_count": null,
   "metadata": {
    "collapsed": false
   },
   "outputs": [],
   "source": [
    "#For every vegetable in the list, print Yum!\n",
    "\n",
    "vegetables = ['carrot', 'lettuce', 'kale', 'zucchini']\n",
    "for vegetable in vegetables:\n",
    "print('Yum!')"
   ]
  },
  {
   "cell_type": "code",
   "execution_count": null,
   "metadata": {
    "collapsed": false
   },
   "outputs": [],
   "source": [
    "#Print how many birthday candles will be on my next cake.\n",
    "\n",
    "next_age = 37\n",
    "print('There will be' + next_age + 'birthday candles next year!')"
   ]
  },
  {
   "cell_type": "code",
   "execution_count": null,
   "metadata": {
    "collapsed": false
   },
   "outputs": [],
   "source": [
    "#For a dictionary of Flyers' players and their numbers, print out Streit's number.\n",
    "\n",
    "flyers = {'Giroux' : 28, 'Simmonds' : 17, 'Schenn' = 10, 'Gudas' : 3}\n",
    "print('Streit wears #', flyers['Streit'])"
   ]
  },
  {
   "cell_type": "code",
   "execution_count": null,
   "metadata": {
    "collapsed": false
   },
   "outputs": [],
   "source": [
    "#Count how many friends you have whose name starts with \"C\"\n",
    "\n",
    "friends = ['Chad', 'Cynthia', 'Chris', 'Bart', 'Curt', 'Linus', 'Harriett', 'Martha', 'Colleen']\n",
    "\n",
    "for friend in friends:\n",
    "    if friend.startswith(\"C\"):\n",
    "        c_count += 1"
   ]
  },
  {
   "cell_type": "code",
   "execution_count": null,
   "metadata": {
    "collapsed": false
   },
   "outputs": [],
   "source": [
    "#Add a value to the end of a list\n",
    "\n",
    "listC = ['A', 'B', 'C']\n",
    "listC[3] = 'D'"
   ]
  },
  {
   "cell_type": "code",
   "execution_count": null,
   "metadata": {
    "collapsed": false
   },
   "outputs": [],
   "source": [
    "#print word in uppercase\n",
    "\n",
    "word = 'fruitfly'\n",
    "print(word.upper)"
   ]
  },
  {
   "cell_type": "markdown",
   "metadata": {},
   "source": [
    "[Here](https://www.dropbox.com/s/cqsxfws52gulkyx/drawing.pdf) is a cheatsheet for errors."
   ]
  }
 ],
 "metadata": {
  "kernelspec": {
   "display_name": "py35",
   "language": "python",
   "name": "py35"
  },
  "language_info": {
   "codemirror_mode": {
    "name": "ipython",
    "version": 3
   },
   "file_extension": ".py",
   "mimetype": "text/x-python",
   "name": "python",
   "nbconvert_exporter": "python",
   "pygments_lexer": "ipython3",
   "version": "3.5.1"
  }
 },
 "nbformat": 4,
 "nbformat_minor": 0
}
