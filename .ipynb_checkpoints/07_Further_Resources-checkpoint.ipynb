{
 "cells": [
  {
   "cell_type": "markdown",
   "metadata": {},
   "source": [
    "More Resources\n",
    "==============\n",
    "\n",
    "**Learning Resources:**\n",
    "\n",
    "1. [Learn Python the Hard Way](http://learnpythonthehardway.org/book/) - good for learning Python syntax\n",
    "\n",
    "2. [Think Python](http://www.greenteapress.com/thinkpython/html/index.html) - free online book that teaches you how to write programs using Python\n",
    "\n",
    "3. [Programming for Everybody](https://www.coursera.org/learn/python) - Coursera course. Course text is based on Think Python\n",
    "\n",
    "4. [Free Python books online](https://github.com/vhf/free-programming-books/blob/master/free-programming-books.md#python)\n",
    "\n",
    "5. [Google Python course](https://developers.google.com/edu/python/)\n",
    "\n",
    "6. [Software Carpentry Lessons](http://swcarpentry.github.io/python-novice-inflammation/)\n",
    "\n",
    "other [Coursera](https://www.coursera.org/courses?languages=en&query=python), [CodeAcademy](https://www.codecademy.com/learn/python), [Udacity](https://www.udacity.com/programming-languages/python), [EdX](https://www.edx.org/course?search_query=python) courses\n",
    "\n",
    "**Community Resources:**\n",
    "\n",
    "1. [Seattle PyLadies](http://www.meetup.com/Seattle-PyLadies/)\n",
    "\n",
    "2. [Puget Sound Programming Python](http://www.meetup.com/PSPPython/)\n",
    "\n",
    "3. [DjangoGirls Seattle](https://djangogirls.org/seattle/)\n",
    "\n",
    "4. [Girl Develop It Seattle](http://www.meetup.com/Girl-Develop-It-Seattle/)\n",
    "\n",
    "5. Twitter\n",
    "\n",
    "\n",
    "Now go set up your environment and make something!\n",
    "=================================================="
   ]
  }
 ],
 "metadata": {
  "kernelspec": {
   "display_name": "py35",
   "language": "python",
   "name": "py35"
  },
  "language_info": {
   "codemirror_mode": {
    "name": "ipython",
    "version": 3
   },
   "file_extension": ".py",
   "mimetype": "text/x-python",
   "name": "python",
   "nbconvert_exporter": "python",
   "pygments_lexer": "ipython3",
   "version": "3.5.1"
  }
 },
 "nbformat": 4,
 "nbformat_minor": 0
}
