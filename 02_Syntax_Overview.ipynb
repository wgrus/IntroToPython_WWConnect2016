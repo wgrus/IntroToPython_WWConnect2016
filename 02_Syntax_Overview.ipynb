{
 "cells": [
  {
   "cell_type": "markdown",
   "metadata": {},
   "source": [
    "Super Fast Syntax\n",
    "=================\n",
    "\n",
    "*These notebooks were written to run in a Python3 environment. They will run if you have Python2, but the print function does not format things correctly and division doesn't work exactly this same way.*\n",
    "\n",
    "Things to know:\n",
    "\n",
    "1. Variables\n",
    "\n",
    "2. Operators\n",
    "\n",
    "3. Data Structures\n",
    "\n",
    "4. Conditionals and Loops\n",
    "\n",
    "5. Functions and methods\n",
    "\n",
    "Don't be scared by syntax! According to this slide by [Tom Meagher](https://twitter.com/ultracasual), if you've used Excel, you are part way there!\n",
    "\n",
    "![title](img/excel_coding.jpg)\n",
    "\n"
   ]
  },
  {
   "cell_type": "markdown",
   "metadata": {},
   "source": [
    "Variables\n",
    "========="
   ]
  },
  {
   "cell_type": "markdown",
   "metadata": {},
   "source": [
    "In Python, we can assign values to variable names. The variables then take on the value. Here we will set the variable a equal to the integer 1"
   ]
  },
  {
   "cell_type": "code",
   "execution_count": null,
   "metadata": {
    "collapsed": true
   },
   "outputs": [],
   "source": [
    "a = 1"
   ]
  },
  {
   "cell_type": "markdown",
   "metadata": {},
   "source": [
    "Let's set the variable \"x\" = to any number you want."
   ]
  },
  {
   "cell_type": "code",
   "execution_count": null,
   "metadata": {
    "collapsed": true
   },
   "outputs": [],
   "source": [
    "x = "
   ]
  },
  {
   "cell_type": "markdown",
   "metadata": {},
   "source": [
    "We can then do anything to a that we could do to a number (**integer** type or **float** type)."
   ]
  },
  {
   "cell_type": "code",
   "execution_count": null,
   "metadata": {
    "collapsed": false
   },
   "outputs": [],
   "source": [
    "print(1 + 1)"
   ]
  },
  {
   "cell_type": "code",
   "execution_count": null,
   "metadata": {
    "collapsed": false
   },
   "outputs": [],
   "source": [
    "print(a + 1) "
   ]
  },
  {
   "cell_type": "markdown",
   "metadata": {},
   "source": [
    "Let's print 5 times your variable x."
   ]
  },
  {
   "cell_type": "code",
   "execution_count": null,
   "metadata": {
    "collapsed": true
   },
   "outputs": [],
   "source": []
  },
  {
   "cell_type": "markdown",
   "metadata": {},
   "source": [
    "Variables can also have text value (**string** type)."
   ]
  },
  {
   "cell_type": "code",
   "execution_count": null,
   "metadata": {
    "collapsed": false
   },
   "outputs": [],
   "source": [
    "name = 'Wendy'\n",
    "print(name, 'teaches Python.')"
   ]
  },
  {
   "cell_type": "markdown",
   "metadata": {},
   "source": [
    "Let's write that you are learning python with a new variable called my_name."
   ]
  },
  {
   "cell_type": "code",
   "execution_count": null,
   "metadata": {
    "collapsed": true
   },
   "outputs": [],
   "source": []
  },
  {
   "cell_type": "markdown",
   "metadata": {},
   "source": [
    "Variables can also be **boolean**, which means they have a True or False value."
   ]
  },
  {
   "cell_type": "code",
   "execution_count": null,
   "metadata": {
    "collapsed": false
   },
   "outputs": [],
   "source": [
    "c = True\n",
    "d = 'True'\n",
    "print(c == d)"
   ]
  },
  {
   "cell_type": "markdown",
   "metadata": {},
   "source": [
    "Operators\n",
    "=========\n",
    "\n",
    "**Operators** are standard numerical functions, but you can also use some operators on other object types and data structures."
   ]
  },
  {
   "cell_type": "code",
   "execution_count": null,
   "metadata": {
    "collapsed": false
   },
   "outputs": [],
   "source": [
    "name * 3"
   ]
  },
  {
   "cell_type": "code",
   "execution_count": null,
   "metadata": {
    "collapsed": false
   },
   "outputs": [],
   "source": [
    "name + ' Grus'"
   ]
  },
  {
   "cell_type": "code",
   "execution_count": null,
   "metadata": {
    "collapsed": false
   },
   "outputs": [],
   "source": [
    "5 / 6"
   ]
  },
  {
   "cell_type": "code",
   "execution_count": null,
   "metadata": {
    "collapsed": true
   },
   "outputs": [],
   "source": []
  },
  {
   "cell_type": "markdown",
   "metadata": {},
   "source": [
    "Data Structures\n",
    "===============\n",
    "\n",
    "Data structures are collections of objects. The four defined data structures are\n",
    "\n",
    "1. list\n",
    "\n",
    "2. dictionary\n",
    "\n",
    "3. tuple\n",
    "\n",
    "4. set\n",
    "\n",
    "Data structures can be either **mutable** - you can change the contents after assignment - or **immutable** - you cannot change the contents after assignment."
   ]
  },
  {
   "cell_type": "markdown",
   "metadata": {},
   "source": [
    "A **list** is an ordered, mutable collection of objects. The objects don't have to be the same type. A variable can be assigned a list. To define a list, enclose the comma-separated values in [] or use the list() function."
   ]
  },
  {
   "cell_type": "code",
   "execution_count": null,
   "metadata": {
    "collapsed": true
   },
   "outputs": [],
   "source": [
    "listA = [1,2,3]\n",
    "listB = ['1', 32, 'Frank']"
   ]
  },
  {
   "cell_type": "code",
   "execution_count": null,
   "metadata": {
    "collapsed": false
   },
   "outputs": [],
   "source": [
    "listC = listA + listB\n",
    "print(listC)"
   ]
  },
  {
   "cell_type": "markdown",
   "metadata": {},
   "source": [
    "You can get to values in the list using an index or by slicing. Python uses **0-based** indexing."
   ]
  },
  {
   "cell_type": "code",
   "execution_count": null,
   "metadata": {
    "collapsed": false
   },
   "outputs": [],
   "source": [
    "listC[1]"
   ]
  },
  {
   "cell_type": "code",
   "execution_count": null,
   "metadata": {
    "collapsed": false
   },
   "outputs": [],
   "source": [
    "listC[5]"
   ]
  },
  {
   "cell_type": "code",
   "execution_count": null,
   "metadata": {
    "collapsed": false
   },
   "outputs": [],
   "source": [
    "listC[1:3]"
   ]
  },
  {
   "cell_type": "code",
   "execution_count": null,
   "metadata": {
    "collapsed": true
   },
   "outputs": [],
   "source": [
    "listC[-1]"
   ]
  },
  {
   "cell_type": "markdown",
   "metadata": {},
   "source": [
    "A **dictionary** is an unordered, mutable collection of key-value pairs. To access the value, index on the key.  To define a dictionary, enclose the common separated values in {}."
   ]
  },
  {
   "cell_type": "code",
   "execution_count": null,
   "metadata": {
    "collapsed": false
   },
   "outputs": [],
   "source": [
    "menu = {'tacos' : 4, 'pizza' : 3, 'hotdog' : 1.5}\n",
    "print('The tacos cost $', menu['tacos'])"
   ]
  },
  {
   "cell_type": "markdown",
   "metadata": {},
   "source": [
    "You can add values to an existing dictionary by defining a new keys."
   ]
  },
  {
   "cell_type": "code",
   "execution_count": null,
   "metadata": {
    "collapsed": true
   },
   "outputs": [],
   "source": [
    "menu['eggrolls'] = 5"
   ]
  },
  {
   "cell_type": "code",
   "execution_count": null,
   "metadata": {
    "collapsed": false
   },
   "outputs": [],
   "source": [
    "print(menu)"
   ]
  },
  {
   "cell_type": "markdown",
   "metadata": {},
   "source": [
    "A **tuple** is an immutable collection of objects. To define a tuple, enclose the values in (). Tuples can also be accessed by index. "
   ]
  },
  {
   "cell_type": "code",
   "execution_count": null,
   "metadata": {
    "collapsed": false
   },
   "outputs": [],
   "source": [
    "coordinates = (47.6097, 122.3331)\n",
    "latitude, longitude = coordinates\n",
    "print(latitude)"
   ]
  },
  {
   "cell_type": "markdown",
   "metadata": {},
   "source": [
    "A **set** is an unordered, mutable set of unique elements. To define a set, use the set() function."
   ]
  },
  {
   "cell_type": "code",
   "execution_count": null,
   "metadata": {
    "collapsed": false
   },
   "outputs": [],
   "source": [
    "print(listC)\n",
    "listC.append('Frank')\n",
    "listC.append(32)\n",
    "print(listC)\n",
    "setC = set(listC)\n",
    "print(setC)"
   ]
  },
  {
   "cell_type": "markdown",
   "metadata": {},
   "source": [
    "Conditionals and Loops\n",
    "======================\n",
    "\n",
    "**Conditionals** allow you to execute code when certain statements are true or false. Two main kinds of conditionals are if statements and while loops.\n",
    "\n",
    "An **if** statement allows you to execute a code block if the boolean statement is true. To define an if statement, use the keyword **if** followed by a boolean statement (something that has a True/False value) followed by a :. Python has certain [Truth Value Testing](https://docs.python.org/3/library/stdtypes.html#truth-value-testing) rules so that any object can be True/False. The codeblock containing the code that should be executed if the boolean statement is True, is then indented.\n"
   ]
  },
  {
   "cell_type": "code",
   "execution_count": null,
   "metadata": {
    "collapsed": false
   },
   "outputs": [],
   "source": [
    "color = 'red'\n",
    "if color == 'red':\n",
    "    print('You should not wear hot pink shoes with that', color, 'dress.')"
   ]
  },
  {
   "cell_type": "markdown",
   "metadata": {},
   "source": [
    "To chain if statements, use the **elif** or **else** keywords."
   ]
  },
  {
   "cell_type": "code",
   "execution_count": null,
   "metadata": {
    "collapsed": false
   },
   "outputs": [],
   "source": [
    "color = 'black'\n",
    "if color == 'red':\n",
    "    print('You should not wear hot pink shoes with that', color, 'dress.')\n",
    "elif color == 'yellow':\n",
    "    print('You might be able to wear hot pink shoes with your', color, 'dress.')\n",
    "else:\n",
    "    print('Wear the hot pink shoes with your', color, 'dress!')"
   ]
  },
  {
   "cell_type": "markdown",
   "metadata": {},
   "source": [
    "Note, the if, elif, and else keywords must align vertically. The elif statements also require a boolean statement. Multiple elif statements can be chained together."
   ]
  },
  {
   "cell_type": "markdown",
   "metadata": {},
   "source": [
    "A **while** loop allows you to continue to execute code until a boolean statement is False."
   ]
  },
  {
   "cell_type": "code",
   "execution_count": null,
   "metadata": {
    "collapsed": false
   },
   "outputs": [],
   "source": [
    "number = 0\n",
    "while number < 10:\n",
    "    print('Wahoo!')\n",
    "    number += 1\n",
    "    "
   ]
  },
  {
   "cell_type": "markdown",
   "metadata": {},
   "source": [
    "Boolean statements can be combined or modified with **not**, **and**, or **or** keywords."
   ]
  },
  {
   "cell_type": "markdown",
   "metadata": {},
   "source": [
    "To execute the same code on all the elements of an iterable, you can use a **for** loop. Iterables include strings, lists, dictionaries, tuples, and sets."
   ]
  },
  {
   "cell_type": "code",
   "execution_count": null,
   "metadata": {
    "collapsed": false
   },
   "outputs": [],
   "source": [
    "print(listC)\n",
    "for item in listC:\n",
    "    print(item, 'is in the list.')"
   ]
  },
  {
   "cell_type": "code",
   "execution_count": null,
   "metadata": {
    "collapsed": false
   },
   "outputs": [],
   "source": [
    "print(menu)\n",
    "for food in menu:\n",
    "    print(food, 'costs $', menu[food])"
   ]
  },
  {
   "cell_type": "code",
   "execution_count": null,
   "metadata": {
    "collapsed": false
   },
   "outputs": [],
   "source": [
    "for letter in name:\n",
    "    print(letter)"
   ]
  },
  {
   "cell_type": "markdown",
   "metadata": {},
   "source": [
    "Functions and Methods\n",
    "=====================\n",
    "\n",
    "A **function** is a set of code that can be run together. Functions can take in input parameters (**arguments**) and return output.\n",
    "\n",
    "![title](img/function.png)"
   ]
  },
  {
   "cell_type": "markdown",
   "metadata": {},
   "source": [
    "We have already seen one function: print(). The print function takes comma-separated arguments and prints them out."
   ]
  },
  {
   "cell_type": "markdown",
   "metadata": {},
   "source": [
    "There are other [built-in functions](https://docs.python.org/3/library/functions.html), such as type(), sorted(), len(). \n",
    "\n",
    "We can also write our own functions. We start the function definition with the keyword **def** and then a descriptive function name and then the required parameters in parentheses. Then we make the codeblock for the function code. If our function gives any output, we need to use the **return** keyword."
   ]
  },
  {
   "cell_type": "code",
   "execution_count": null,
   "metadata": {
    "collapsed": false
   },
   "outputs": [],
   "source": [
    "def add_5(x):\n",
    "    return x + 5\n",
    "\n",
    "add_5(32)"
   ]
  },
  {
   "cell_type": "markdown",
   "metadata": {},
   "source": [
    "A **method** is a type of function that exists only for a specific type/class of object. For example, there are string methods and integer methods and list methods. Methods are called by typing the name of the object followed by  period followed by the name of the method(). If there are any parameters for the method, they go in the parentheses. For example, the **split()** method works on strings and splits them into lists based on whatever character is in the parentheses."
   ]
  },
  {
   "cell_type": "code",
   "execution_count": null,
   "metadata": {
    "collapsed": false
   },
   "outputs": [],
   "source": [
    "sentence = 'Wendy ate donuts for breakfast'\n",
    "sentence_a_split = sentence.split('a')\n",
    "print(sentence_a_split)"
   ]
  },
  {
   "cell_type": "code",
   "execution_count": null,
   "metadata": {
    "collapsed": false
   },
   "outputs": [],
   "source": [
    "sentence.upper()"
   ]
  },
  {
   "cell_type": "markdown",
   "metadata": {},
   "source": [
    "Methods on immutable objects do not modify the original object."
   ]
  },
  {
   "cell_type": "code",
   "execution_count": null,
   "metadata": {
    "collapsed": false
   },
   "outputs": [],
   "source": [
    "print(sentence)"
   ]
  },
  {
   "cell_type": "markdown",
   "metadata": {},
   "source": [
    "To see what methods are available for an object, type the object's name followed by a period and hit tab. All the available methods for a defined object will be in a drop-down menu. Or, you can use the **dir()** function on your object.\n",
    "\n",
    "Let's write a function to determine if a sentence has enough a's in it. The input is a string. If the string has at least 4 a's in it, the function returns that the string has enough a's in it. If the string has less than 4 a's, the function returns that you need more a's.\n",
    "\n",
    "The comments under the definition line is called the docstring. It should give enough information for any usage questions. When you use the **help()** function on a function, it will give you the docstring for the function."
   ]
  },
  {
   "cell_type": "code",
   "execution_count": null,
   "metadata": {
    "collapsed": false
   },
   "outputs": [],
   "source": [
    "help(help)"
   ]
  },
  {
   "cell_type": "code",
   "execution_count": null,
   "metadata": {
    "collapsed": false
   },
   "outputs": [],
   "source": [
    "def has_enough_as(string):\n",
    "    '''Takes in a string and returns a sentence depending on how many a's are in it.'''\n",
    "    "
   ]
  },
  {
   "cell_type": "code",
   "execution_count": null,
   "metadata": {
    "collapsed": false
   },
   "outputs": [],
   "source": [
    "has_enough_as(sentence)"
   ]
  },
  {
   "cell_type": "code",
   "execution_count": null,
   "metadata": {
    "collapsed": true
   },
   "outputs": [],
   "source": [
    "sentence = 'Wendy ate donuts and sausage for breakfast'"
   ]
  },
  {
   "cell_type": "code",
   "execution_count": null,
   "metadata": {
    "collapsed": false
   },
   "outputs": [],
   "source": [
    "has_enough_as(sentence)"
   ]
  }
 ],
 "metadata": {
  "kernelspec": {
   "display_name": "py35",
   "language": "python",
   "name": "py35"
  },
  "language_info": {
   "codemirror_mode": {
    "name": "ipython",
    "version": 3
   },
   "file_extension": ".py",
   "mimetype": "text/x-python",
   "name": "python",
   "nbconvert_exporter": "python",
   "pygments_lexer": "ipython3",
   "version": "3.5.1"
  }
 },
 "nbformat": 4,
 "nbformat_minor": 0
}
