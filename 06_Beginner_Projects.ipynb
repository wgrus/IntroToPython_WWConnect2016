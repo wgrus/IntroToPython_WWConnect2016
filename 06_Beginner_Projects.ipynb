{
 "cells": [
  {
   "cell_type": "markdown",
   "metadata": {},
   "source": [
    "Guess a number\n",
    "==============\n",
    "\n",
    "Write a program that asks the user to guess a number between 1 and 10. The program should give the user hints such as \"too high\" or \"too low\". Alternatively, the hints might be \"warm\" or \"cold\" depending on how close they are to the number.\n",
    "\n",
    "**Hints**\n",
    "Use the random integer generator to get the number.\n",
    "To get the input from the user, use the Python2 raw_input() or Python3 input() function.\n"
   ]
  },
  {
   "cell_type": "code",
   "execution_count": null,
   "metadata": {
    "collapsed": true
   },
   "outputs": [],
   "source": [
    "from random import randint\n",
    "\n",
    "number = randint(1,10)\n",
    "number_match = False\n",
    "guess = input('Guess a number between 1 and 10.')\n",
    "\n",
    "while not number_match:\n",
    "    if guess == number:\n",
    "        \n",
    "    elif guess < number:\n",
    "    \n",
    "    else:"
   ]
  },
  {
   "cell_type": "markdown",
   "metadata": {},
   "source": [
    "**Bonus**\n",
    "\n",
    "1. How could you change the program to have an easy, medium, and hard version of the game?\n",
    "\n",
    "2. How could you change the program to ask if the player wants to play again after they win?\n",
    "\n",
    "3. How could you change the program to limit the number of guesses the player has?"
   ]
  },
  {
   "cell_type": "markdown",
   "metadata": {},
   "source": [
    "Email your fans\n",
    "===============\n",
    "\n",
    "You are signing people up for a mailing list because they are interested in your band. When they signed themselves up, there was no restrictions on capitalization, but when you email them, you want to use standard capitalization. Write a program than takes in the following list of names, and for each name prints out \"Dear so-and-so\" with their name correctly capitalized.\n",
    "\n",
    "**Hints** Use string methods."
   ]
  },
  {
   "cell_type": "code",
   "execution_count": null,
   "metadata": {
    "collapsed": true
   },
   "outputs": [],
   "source": [
    "names = ['wendy', 'SHANNON', 'Valentine', 'ruby', 'Samantha', 'VERONICA', 'Jen', 'cAndace']\n",
    "\n",
    "for name in names:"
   ]
  },
  {
   "cell_type": "markdown",
   "metadata": {},
   "source": [
    "Make a Happy Hour menu\n",
    "======================\n",
    "\n",
    "A Neighborhood bar has the following menu\n",
    "\n",
    "- pizza : $5\n",
    "\n",
    "- nachos : $7\n",
    "\n",
    "- hamburger : $8\n",
    "\n",
    "- hot dog : $4\n",
    "\n",
    "- soft pretzel : $4\n",
    "\n",
    "- cheese sticks : $5\n",
    "\n",
    "- chicken wings : $8\n",
    "\n",
    "- hummus plate : $5\n",
    " \n",
    "To drum up business, the bar decides to have a happy hour where foods that start with the letter 'h' are half price. Write a program that will make a new menu for happy hour.\n"
   ]
  },
  {
   "cell_type": "code",
   "execution_count": null,
   "metadata": {
    "collapsed": true
   },
   "outputs": [],
   "source": [
    "bar_menu = {}\n",
    "happy_hour_menu = {}"
   ]
  },
  {
   "cell_type": "markdown",
   "metadata": {},
   "source": [
    "99 Bottles of Beer on the Wall\n",
    "=============================\n",
    "\n",
    "Write a program that prints out the lyrics to \"99 bottles of beer on the wall\". Make sure the lyrics are grammatically correct for subject verb agreement."
   ]
  },
  {
   "cell_type": "code",
   "execution_count": null,
   "metadata": {
    "collapsed": true
   },
   "outputs": [],
   "source": []
  },
  {
   "cell_type": "markdown",
   "metadata": {},
   "source": [
    "More Project Resources\n",
    "======================\n",
    "\n",
    "Reddit has a [forum](https://www.reddit.com/r/beginnerprojects) for beginner projects.\n",
    "\n",
    "The [Advent of Code](http://adventofcode.com/) has some holiday related projects."
   ]
  }
 ],
 "metadata": {
  "kernelspec": {
   "display_name": "py35",
   "language": "python",
   "name": "py35"
  },
  "language_info": {
   "codemirror_mode": {
    "name": "ipython",
    "version": 3
   },
   "file_extension": ".py",
   "mimetype": "text/x-python",
   "name": "python",
   "nbconvert_exporter": "python",
   "pygments_lexer": "ipython3",
   "version": "3.5.1"
  }
 },
 "nbformat": 4,
 "nbformat_minor": 0
}
